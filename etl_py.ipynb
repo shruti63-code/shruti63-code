{
  "nbformat": 4,
  "nbformat_minor": 0,
  "metadata": {
    "colab": {
      "provenance": [],
      "toc_visible": true,
      "authorship_tag": "ABX9TyN4gEKItujYWrTq9dCoY153",
      "include_colab_link": true
    },
    "kernelspec": {
      "name": "python3",
      "display_name": "Python 3"
    },
    "language_info": {
      "name": "python"
    }
  },
  "cells": [
    {
      "cell_type": "markdown",
      "metadata": {
        "id": "view-in-github",
        "colab_type": "text"
      },
      "source": [
        "<a href=\"https://colab.research.google.com/github/shruti63-code/shruti63-code/blob/main/etl_py.ipynb\" target=\"_parent\"><img src=\"https://colab.research.google.com/assets/colab-badge.svg\" alt=\"Open In Colab\"/></a>"
      ]
    },
    {
      "cell_type": "code",
      "source": [
        "import pandas as pd\n",
        "from sqlalchemy import create_engine"
      ],
      "metadata": {
        "id": "mgxyFtAN8siD"
      },
      "execution_count": 2,
      "outputs": []
    },
    {
      "cell_type": "code",
      "source": [
        "def extract_data(file_path):\n",
        "    \"\"\"Extract data from a CSV file.\"\"\"\n",
        "    try:\n",
        "        data = pd.read_csv(file_path)\n",
        "        print(\"Data extraction successful.\")\n",
        "        return data\n",
        "    except Exception as e:\n",
        "        print(f\"Error during extraction: {e}\")\n",
        "        return None\n"
      ],
      "metadata": {
        "id": "mtuGSQDdooWR"
      },
      "execution_count": 3,
      "outputs": []
    },
    {
      "cell_type": "code",
      "source": [
        "def transform_data(data):\n",
        "    \"\"\"Transform the data (cleaning, formatting, etc.).\"\"\"\n",
        "    try:\n",
        "        # Drop rows with missing values\n",
        "        data = data.dropna()\n",
        "\n",
        "        # Rename columns for better readability\n",
        "        data = data.rename(columns={\"old_column_name\": \"new_column_name\"})\n",
        "\n",
        "        # Add a calculated column\n",
        "        data[\"new_column\"] = data[\"existing_column\"] * 2\n",
        "\n",
        "        print(\"Data transformation successful.\")\n",
        "        return data\n",
        "    except Exception as e:\n",
        "        print(f\"Error during transformation: {e}\")\n",
        "        return None\n"
      ],
      "metadata": {
        "id": "hiW8m6stos_Q"
      },
      "execution_count": 4,
      "outputs": []
    },
    {
      "cell_type": "code",
      "source": [
        "def load_data(data, db_url, table_name):\n",
        "    \"\"\"Load data into a database.\"\"\"\n",
        "    try:\n",
        "        # Create a SQLAlchemy engine\n",
        "        engine = create_engine(db_url)\n",
        "\n",
        "        # Write data to the database table\n",
        "        data.to_sql(table_name, con=engine, if_exists=\"replace\", index=False)\n",
        "        print(\"Data load successful.\")\n",
        "    except Exception as e:\n",
        "        print(f\"Error during load: {e}\")"
      ],
      "metadata": {
        "id": "pGLwLJbRo9lU"
      },
      "execution_count": 5,
      "outputs": []
    },
    {
      "cell_type": "code",
      "source": [
        "# Main ETL Process\n",
        "if __name__ == \"__main__\":\n",
        "    # File path for the input data\n",
        "    file_path = \"input_data.csv\"\n",
        "\n",
        "    # Database connection URL (e.g., SQLite)\n",
        "    db_url = \"sqlite:///etl_database.db\"\n",
        "\n",
        "    # Target table name\n",
        "    table_name = \"processed_data\"\n",
        "\n",
        "    # Execute ETL steps\n",
        "    data = extract_data(file_path)\n",
        "    if data is not None:\n",
        "        transformed_data = transform_data(data)\n",
        "        if transformed_data is not None:\n",
        "            load_data(transformed_data, db_url, table_name)\n"
      ],
      "metadata": {
        "colab": {
          "base_uri": "https://localhost:8080/"
        },
        "id": "-jWo7b5PrFQI",
        "outputId": "6b61e3d6-2035-417e-adf1-6f622a3cfc74"
      },
      "execution_count": 6,
      "outputs": [
        {
          "output_type": "stream",
          "name": "stdout",
          "text": [
            "Error during extraction: [Errno 2] No such file or directory: 'input_data.csv'\n"
          ]
        }
      ]
    },
    {
      "cell_type": "code",
      "source": [
        "file_path = \"path/to/your/input_data.csv\"\n"
      ],
      "metadata": {
        "id": "W4ILW3ImrTtt"
      },
      "execution_count": 7,
      "outputs": []
    },
    {
      "cell_type": "code",
      "source": [],
      "metadata": {
        "id": "VYr_V1aXbM7B"
      },
      "execution_count": null,
      "outputs": []
    }
  ]
}