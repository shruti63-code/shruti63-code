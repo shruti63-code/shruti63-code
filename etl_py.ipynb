{
  "nbformat": 4,
  "nbformat_minor": 0,
  "metadata": {
    "colab": {
      "provenance": [],
      "authorship_tag": "ABX9TyNQOsQsrR7FQaI1iV69n0k8",
      "include_colab_link": true
    },
    "kernelspec": {
      "name": "python3",
      "display_name": "Python 3"
    },
    "language_info": {
      "name": "python"
    }
  },
  "cells": [
    {
      "cell_type": "markdown",
      "metadata": {
        "id": "view-in-github",
        "colab_type": "text"
      },
      "source": [
        "<a href=\"https://colab.research.google.com/github/shruti63-code/shruti63-code/blob/main/etl_py.ipynb\" target=\"_parent\"><img src=\"https://colab.research.google.com/assets/colab-badge.svg\" alt=\"Open In Colab\"/></a>"
      ]
    },
    {
      "cell_type": "markdown",
      "source": [
        "# **PYTHON SCRIPT OR NOTEBOOK AUTOMATING THE ETL PROCESS**\n"
      ],
      "metadata": {
        "id": "OZDIhuMBgqtc"
      }
    },
    {
      "cell_type": "code",
      "source": [
        "import pandas as pd\n",
        "import numpy as np\n",
        "import os\n",
        "from sqlalchemy import create_engine\n"
      ],
      "metadata": {
        "id": "mgxyFtAN8siD"
      },
      "execution_count": 10,
      "outputs": []
    },
    {
      "cell_type": "code",
      "source": [
        "\n",
        "# Step 1: Extract\n",
        "def extract_data(file_path):\n",
        "    if file_path.endswith('.csv'):\n",
        "        data = pd.read_csv(file_path)\n",
        "    elif file_path.endswith('.xlsx'):\n",
        "        data = pd.read_excel(file_path)\n",
        "    else:\n",
        "        raise ValueError(\"Unsupported file format\")\n",
        "    return data\n"
      ],
      "metadata": {
        "id": "mtuGSQDdooWR"
      },
      "execution_count": 11,
      "outputs": []
    },
    {
      "cell_type": "code",
      "source": [
        "# Step 2: Transform\n",
        "def transform_data(data):\n",
        "    # Example transformations\n",
        "    data.dropna(inplace=True)  # Remove missing values\n",
        "    data.columns = [col.strip().lower() for col in data.columns]  # Standardize column names\n",
        "    data['processed_date'] = pd.to_datetime('today')  # Add a processing date column\n",
        "    return data\n"
      ],
      "metadata": {
        "id": "hiW8m6stos_Q"
      },
      "execution_count": 12,
      "outputs": []
    },
    {
      "cell_type": "code",
      "source": [
        "# Step 3: Load\n",
        "def load_data_to_db(data, table_name, db_connection_string):\n",
        "    engine = create_engine(db_connection_string)\n",
        "    with engine.connect() as connection:\n",
        "        data.to_sql(table_name, con=connection, if_exists='replace', index=False)\n"
      ],
      "metadata": {
        "id": "pGLwLJbRo9lU"
      },
      "execution_count": 13,
      "outputs": []
    },
    {
      "cell_type": "code",
      "source": [
        "# Main ETL process\n",
        "def etl_process(file_path, table_name, db_connection_string):\n",
        "    print(\"Starting ETL process...\")\n",
        "\n",
        "    print(\"Step 1: Extracting data...\")\n",
        "    data = extract_data(file_path)\n",
        "    print(f\"Extracted {len(data)} rows.\")\n",
        "\n",
        "    print(\"Step 2: Transforming data...\")\n",
        "    transformed_data = transform_data(data)\n",
        "    print(\"Transformation complete.\")\n",
        "\n",
        "    print(\"Step 3: Loading data into database...\")\n",
        "    load_data_to_db(transformed_data, table_name, db_connection_string)\n",
        "    print(\"Data successfully loaded into database.\")\n"
      ],
      "metadata": {
        "id": "-jWo7b5PrFQI"
      },
      "execution_count": 14,
      "outputs": []
    },
    {
      "cell_type": "code",
      "source": [],
      "metadata": {
        "id": "ySSNiwN6xH3e"
      },
      "execution_count": null,
      "outputs": []
    }
  ]
}